{
  "nbformat": 4,
  "nbformat_minor": 0,
  "metadata": {
    "colab": {
      "name": "Jabin Thursday's of Python Programming: Conditional (If) Statements",
      "provenance": [],
      "collapsed_sections": [],
      "include_colab_link": true
    },
    "kernelspec": {
      "name": "python3",
      "display_name": "Python 3"
    }
  },
  "cells": [
    {
      "cell_type": "markdown",
      "metadata": {
        "id": "view-in-github",
        "colab_type": "text"
      },
      "source": [
        "<a href=\"https://colab.research.google.com/github/JABINOGANGA/Moringa-WK1/blob/main/Jabin_Thursday's_of_Python_Programming_Conditional_(If)_Statements.ipynb\" target=\"_parent\"><img src=\"https://colab.research.google.com/assets/colab-badge.svg\" alt=\"Open In Colab\"/></a>"
      ]
    },
    {
      "cell_type": "markdown",
      "metadata": {
        "id": "56wIrIHaAD6t"
      },
      "source": [
        "<font color=\"green\">*To start working on this notebook, or any other notebook that we will use in this course, we will need to save our own copy of it. We can do this by clicking File > Save a Copy in Drive. We will then be able to make edits to our own copy of this notebook.*</font>"
      ]
    },
    {
      "cell_type": "markdown",
      "metadata": {
        "id": "LVp8C4oB0yzk"
      },
      "source": [
        "# Python Programming: Conditional (If) Statements"
      ]
    },
    {
      "cell_type": "markdown",
      "metadata": {
        "id": "z4xtgHIJ1mui"
      },
      "source": [
        "## 1.0 Overview"
      ]
    },
    {
      "cell_type": "markdown",
      "metadata": {
        "id": "fS6UBkKd2DMo"
      },
      "source": [
        "So as to write useful python programs, we almost always need the ability to check conditions and apply a certain operation accordingly. Conditional statements like the if statement provide us with that ability."
      ]
    },
    {
      "cell_type": "markdown",
      "metadata": {
        "id": "lsZdOcCiAQdJ"
      },
      "source": [
        "##1.1 If"
      ]
    },
    {
      "cell_type": "code",
      "metadata": {
        "id": "-6728JH-2Esz",
        "colab": {
          "base_uri": "https://localhost:8080/"
        },
        "outputId": "4ce23947-40fb-4363-89a6-df996f1738db"
      },
      "source": [
        "# Example 1\n",
        "# We can write an if statement by using the if keyword as shown:\n",
        "#\n",
        "x = 200\n",
        "y = 100\n",
        "if y < x:\n",
        "  print(\"y is less than x\")"
      ],
      "execution_count": null,
      "outputs": [
        {
          "output_type": "stream",
          "text": [
            "y is less than x\n"
          ],
          "name": "stdout"
        }
      ]
    },
    {
      "cell_type": "code",
      "metadata": {
        "id": "ueDGWWPm2FHW",
        "colab": {
          "base_uri": "https://localhost:8080/"
        },
        "outputId": "86856313-86dc-4179-cffe-0af61b9c1233"
      },
      "source": [
        "# Example 2\n",
        "# Below is another example of an if statement\n",
        "#\n",
        "x = 1\n",
        "y = 7\n",
        "\n",
        "# let's find out if x is greater than 7\n",
        "if x < y: \n",
        "  print('yes')"
      ],
      "execution_count": null,
      "outputs": [
        {
          "output_type": "stream",
          "text": [
            "yes\n"
          ],
          "name": "stdout"
        }
      ]
    },
    {
      "cell_type": "markdown",
      "metadata": {
        "id": "MB_zJqo-41tc"
      },
      "source": [
        "### <font color=\"green\">1.1 Challenges</font>"
      ]
    },
    {
      "cell_type": "code",
      "metadata": {
        "id": "DD_AaNYQFjQw",
        "colab": {
          "base_uri": "https://localhost:8080/"
        },
        "outputId": "543e3fbf-bf08-4dee-8687-4016b58ca0f1"
      },
      "source": [
        "# Challenge 1\n",
        "# In our first challenge, we will find out if y is less than 7 \n",
        "# If so, we will print out yes.\n",
        "#\n",
        "\n",
        "# We first declare and assign 1 to variable x and 7 to variable y\n",
        "x = 1\n",
        "y = 7\n",
        "\n",
        "if x < y:\n",
        " print('yes')"
      ],
      "execution_count": null,
      "outputs": [
        {
          "output_type": "stream",
          "text": [
            "yes\n"
          ],
          "name": "stdout"
        }
      ]
    },
    {
      "cell_type": "code",
      "metadata": {
        "id": "56hXs9yRFjFb",
        "colab": {
          "base_uri": "https://localhost:8080/"
        },
        "outputId": "5280e5a7-9763-4206-ecbf-1f1378e09a0f"
      },
      "source": [
        "# Challenge 2\n",
        "# Let's find out if x == true. If so, we will print out yes.\n",
        "# We won't need to declare any variable in this challenge.\n",
        "#\n",
        "x = 1\n",
        "a = bool (True)\n",
        "if x == a:\n",
        "  print('yes')\n"
      ],
      "execution_count": null,
      "outputs": [
        {
          "output_type": "stream",
          "text": [
            "yes\n"
          ],
          "name": "stdout"
        }
      ]
    },
    {
      "cell_type": "code",
      "metadata": {
        "id": "b6R-wr4xFp5e"
      },
      "source": [
        "# Challenge 3\n",
        "# Let's find out if y is true. If so, we will print out yes. \n",
        "# We won't need to declare any variable in this challenge as well\n",
        "#\n",
        "\n",
        "if y == a:\n",
        "  print('yes')\n"
      ],
      "execution_count": null,
      "outputs": []
    },
    {
      "cell_type": "markdown",
      "metadata": {
        "id": "e8-T8Xw-1qYp"
      },
      "source": [
        "## 1.2 Elif"
      ]
    },
    {
      "cell_type": "code",
      "metadata": {
        "id": "ERoyYLdk2MLL",
        "colab": {
          "base_uri": "https://localhost:8080/"
        },
        "outputId": "8f77fd31-7bf3-4535-f5be-a0f522c92856"
      },
      "source": [
        "# Example 1\n",
        "# The elif keyword is a keyword that will try another condition \n",
        "# if the previous condition was not true.\n",
        "# The example below shows how the elif keyword can be used.\n",
        "# \n",
        "x = 33\n",
        "y = 33\n",
        "\n",
        "if y < x:\n",
        "  print(\"y is less than x\")\n",
        "elif x == y:\n",
        "  print(\"x and y are equal\")"
      ],
      "execution_count": null,
      "outputs": [
        {
          "output_type": "stream",
          "text": [
            "x and y are equal\n"
          ],
          "name": "stdout"
        }
      ]
    },
    {
      "cell_type": "code",
      "metadata": {
        "id": "GT8Q7jdf2Mze",
        "colab": {
          "base_uri": "https://localhost:8080/",
          "height": 235
        },
        "outputId": "68461c58-a0b6-4fb3-88a2-4aad0eb8b15b"
      },
      "source": [
        "# Example 2\n",
        "# This is another example of how the elif keyword can be used.\n",
        "#\n",
        "choice = a\n",
        "message = \n",
        "    print(\"You chose 'a'.\")\n",
        "elif choice == 'b':\n",
        "    print(\"You chose 'b'.\")\n",
        "elif choice == 'c':\n",
        "    print(\"You chose 'c'.\")"
      ],
      "execution_count": null,
      "outputs": [
        {
          "output_type": "error",
          "ename": "NameError",
          "evalue": "ignored",
          "traceback": [
            "\u001b[0;31m---------------------------------------------------------------------------\u001b[0m",
            "\u001b[0;31mNameError\u001b[0m                                 Traceback (most recent call last)",
            "\u001b[0;32m<ipython-input-3-f979bd2adacc>\u001b[0m in \u001b[0;36m<module>\u001b[0;34m()\u001b[0m\n\u001b[1;32m      2\u001b[0m \u001b[0;31m# This is another example of how the elif keyword can be used.\u001b[0m\u001b[0;34m\u001b[0m\u001b[0;34m\u001b[0m\u001b[0;34m\u001b[0m\u001b[0m\n\u001b[1;32m      3\u001b[0m \u001b[0;31m#\u001b[0m\u001b[0;34m\u001b[0m\u001b[0;34m\u001b[0m\u001b[0;34m\u001b[0m\u001b[0m\n\u001b[0;32m----> 4\u001b[0;31m \u001b[0mchoice\u001b[0m \u001b[0;34m=\u001b[0m \u001b[0ma\u001b[0m\u001b[0;34m\u001b[0m\u001b[0;34m\u001b[0m\u001b[0m\n\u001b[0m\u001b[1;32m      5\u001b[0m \u001b[0;32mif\u001b[0m \u001b[0mchoice\u001b[0m \u001b[0;34m==\u001b[0m \u001b[0;34m'a'\u001b[0m\u001b[0;34m:\u001b[0m\u001b[0;34m\u001b[0m\u001b[0;34m\u001b[0m\u001b[0m\n\u001b[1;32m      6\u001b[0m     \u001b[0mprint\u001b[0m\u001b[0;34m(\u001b[0m\u001b[0;34m\"You chose 'a'.\"\u001b[0m\u001b[0;34m)\u001b[0m\u001b[0;34m\u001b[0m\u001b[0;34m\u001b[0m\u001b[0m\n",
            "\u001b[0;31mNameError\u001b[0m: name 'a' is not defined"
          ]
        }
      ]
    },
    {
      "cell_type": "markdown",
      "metadata": {
        "id": "Rkw7o23I2N3w"
      },
      "source": [
        "### <font color=\"green\">1.2 Challenges </font>"
      ]
    },
    {
      "cell_type": "code",
      "metadata": {
        "id": "4yVpcy0f2RBM",
        "colab": {
          "base_uri": "https://localhost:8080/"
        },
        "outputId": "279387db-a6af-4104-c2a7-14083dc30b3c"
      },
      "source": [
        "# Challenge 1\n",
        "# Let's now write a program that reads an integer \n",
        "# from a user then displays a message indicating \n",
        "# whether the integer is even or odd.\n",
        "# let the user's input be labelled n\n",
        "\n",
        "n = int(input(\"enter: \"))\n",
        "\n",
        "if n %2 == 0:\n",
        "  print(n, \"is even\")\n",
        "  \n",
        "elif n %2 != 0:\n",
        "  print(n, \"is odd\")\n",
        "\n"
      ],
      "execution_count": null,
      "outputs": [
        {
          "output_type": "stream",
          "text": [
            "enter: 4\n",
            "4 is even\n"
          ],
          "name": "stdout"
        }
      ]
    },
    {
      "cell_type": "code",
      "metadata": {
        "id": "LN1DVYd52R2_",
        "colab": {
          "base_uri": "https://localhost:8080/"
        },
        "outputId": "3e73a2f1-6f25-4017-cd59-a2f39931349e"
      },
      "source": [
        "# Challenge 2: \n",
        "# We now write a program that reads a input from a user. \n",
        "# If the user enters a, e, i, o or u then our program should \n",
        "# display a message indicating that the entered letter is a vowel. \n",
        "# If our user enters y then our program should display a message \n",
        "# indicating that sometimes y is a vowel, and sometimes y is a consonant. \n",
        "# Otherwise our program should display a message indicating that the\n",
        "# letter is a consonant.\n",
        "# let user's input be a\n",
        "\n",
        "a = input(\"Enter letter of the alphabet:\")\n",
        "\n",
        "if a =\"a\" or a =\"e\" or a = \"i\" or a == \"u\"):\n",
        "  print(a, \"is a vowel\") \n",
        "\n",
        "elif a == \"y\" :\n",
        "  print(a,\"is sometimes a vowel\")\n",
        " \n",
        "\n",
        "else:\n",
        "  print(a, \"is a consonant\")\n",
        "\n",
        "\n",
        "\n",
        "\n",
        "\n",
        "\n",
        "\n",
        "\n",
        "\n",
        "\n",
        "\n",
        "\n",
        "\n"
      ],
      "execution_count": null,
      "outputs": [
        {
          "output_type": "stream",
          "text": [
            "Enter letter of the alphabet:y\n",
            "y is sometimes a vowel\n"
          ],
          "name": "stdout"
        }
      ]
    },
    {
      "cell_type": "code",
      "metadata": {
        "id": "WyGQSsN22Rkg",
        "colab": {
          "base_uri": "https://localhost:8080/"
        },
        "outputId": "8796dfc4-0ac1-4272-e8c8-5bf407468299"
      },
      "source": [
        "# Challenge 3\n",
        "# Let's now also write another program that asks for a number and computes the\n",
        "# square of that number. If the square is 100 or greater, print the squared value\n",
        "# and the word 'big'. Otherwise if the square is 50 or greater, print the\n",
        "# squared value and the word 'medium'. Otherwise just print 'too small to bother with'.\n",
        "# Hint: To compute squared, use x*x or x**2\n",
        "#\n",
        "n = int(input(\"Enter No. \"))\n",
        "x == n**2 \n",
        "if  n**2 >= 100:\n",
        "  print(n**2, \"big\")\n",
        "\n",
        "elif n**2 >= 50:\n",
        "  print(n**2, \"medium\")\n",
        "\n",
        "else:\n",
        "  print(n**2, \":too small to bother with\")"
      ],
      "execution_count": null,
      "outputs": [
        {
          "output_type": "stream",
          "text": [
            "Enter No. 8\n",
            "64 medium\n"
          ],
          "name": "stdout"
        }
      ]
    },
    {
      "cell_type": "markdown",
      "metadata": {
        "id": "bOZph-F21tuy"
      },
      "source": [
        "## 1.3 Else"
      ]
    },
    {
      "cell_type": "code",
      "metadata": {
        "id": "HEvymPjczKm-",
        "colab": {
          "base_uri": "https://localhost:8080/"
        },
        "outputId": "7887a3e3-95fa-4514-d96d-4ca8bbb69a71"
      },
      "source": [
        "a = 4%2\n",
        "print(a)"
      ],
      "execution_count": null,
      "outputs": [
        {
          "output_type": "stream",
          "text": [
            "0\n"
          ],
          "name": "stdout"
        }
      ]
    },
    {
      "cell_type": "code",
      "metadata": {
        "colab": {
          "base_uri": "https://localhost:8080/"
        },
        "id": "61Ns78f-lchi",
        "outputId": "e3538b9c-a2d2-4c30-f89d-cc1bba2cebfa"
      },
      "source": [
        "x = input(\"age : \")\n",
        "print(int(x) * 2)"
      ],
      "execution_count": null,
      "outputs": [
        {
          "output_type": "stream",
          "text": [
            "age : 3\n",
            "6\n"
          ],
          "name": "stdout"
        }
      ]
    },
    {
      "cell_type": "code",
      "metadata": {
        "id": "F8nzCtX82v-A",
        "colab": {
          "base_uri": "https://localhost:8080/"
        },
        "outputId": "5adf38fd-8e61-4727-e4a6-03b77e90c222"
      },
      "source": [
        "# Example 1\n",
        "# The else keyword will catch anything else which isn't caught by the preceding conditions.\n",
        "# A use case of else keyword is in the following example. \n",
        "#\n",
        "\n",
        "# Declaring our variables\n",
        "x = 134\n",
        "y = 33\n",
        "\n",
        "if y > x:\n",
        "  print(\"y is greater than x\")\n",
        "elif x == y:\n",
        "  print(\"x and y are equal\")\n",
        "else:\n",
        "  print(\"x is greater than y\")"
      ],
      "execution_count": null,
      "outputs": [
        {
          "output_type": "stream",
          "text": [
            "x is greater than y\n"
          ],
          "name": "stdout"
        }
      ]
    },
    {
      "cell_type": "code",
      "metadata": {
        "id": "Zk9b5LJF2wcB",
        "colab": {
          "base_uri": "https://localhost:8080/",
          "height": 537
        },
        "outputId": "a266dbbb-62d1-47e0-dacb-e1d05f47cdc3"
      },
      "source": [
        "# Example 2\n",
        "# The else keyword can also be used without elif as shown\n",
        "#\n",
        "\n",
        "# Prompting the user for an input\n",
        "temp_outside = float(input('What is the temperature outside? '))\n",
        "\n",
        "if temp_outside > 12:\n",
        "  print('No need for a sweater')\n",
        "else:\n",
        "  print('You need an sweater') "
      ],
      "execution_count": null,
      "outputs": [
        {
          "output_type": "error",
          "ename": "KeyboardInterrupt",
          "evalue": "ignored",
          "traceback": [
            "\u001b[0;31m---------------------------------------------------------------------------\u001b[0m",
            "\u001b[0;31mKeyboardInterrupt\u001b[0m                         Traceback (most recent call last)",
            "\u001b[0;32m/usr/local/lib/python3.7/dist-packages/ipykernel/kernelbase.py\u001b[0m in \u001b[0;36m_input_request\u001b[0;34m(self, prompt, ident, parent, password)\u001b[0m\n\u001b[1;32m    728\u001b[0m             \u001b[0;32mtry\u001b[0m\u001b[0;34m:\u001b[0m\u001b[0;34m\u001b[0m\u001b[0;34m\u001b[0m\u001b[0m\n\u001b[0;32m--> 729\u001b[0;31m                 \u001b[0mident\u001b[0m\u001b[0;34m,\u001b[0m \u001b[0mreply\u001b[0m \u001b[0;34m=\u001b[0m \u001b[0mself\u001b[0m\u001b[0;34m.\u001b[0m\u001b[0msession\u001b[0m\u001b[0;34m.\u001b[0m\u001b[0mrecv\u001b[0m\u001b[0;34m(\u001b[0m\u001b[0mself\u001b[0m\u001b[0;34m.\u001b[0m\u001b[0mstdin_socket\u001b[0m\u001b[0;34m,\u001b[0m \u001b[0;36m0\u001b[0m\u001b[0;34m)\u001b[0m\u001b[0;34m\u001b[0m\u001b[0;34m\u001b[0m\u001b[0m\n\u001b[0m\u001b[1;32m    730\u001b[0m             \u001b[0;32mexcept\u001b[0m \u001b[0mException\u001b[0m\u001b[0;34m:\u001b[0m\u001b[0;34m\u001b[0m\u001b[0;34m\u001b[0m\u001b[0m\n",
            "\u001b[0;32m/usr/local/lib/python3.7/dist-packages/jupyter_client/session.py\u001b[0m in \u001b[0;36mrecv\u001b[0;34m(self, socket, mode, content, copy)\u001b[0m\n\u001b[1;32m    802\u001b[0m         \u001b[0;32mtry\u001b[0m\u001b[0;34m:\u001b[0m\u001b[0;34m\u001b[0m\u001b[0;34m\u001b[0m\u001b[0m\n\u001b[0;32m--> 803\u001b[0;31m             \u001b[0mmsg_list\u001b[0m \u001b[0;34m=\u001b[0m \u001b[0msocket\u001b[0m\u001b[0;34m.\u001b[0m\u001b[0mrecv_multipart\u001b[0m\u001b[0;34m(\u001b[0m\u001b[0mmode\u001b[0m\u001b[0;34m,\u001b[0m \u001b[0mcopy\u001b[0m\u001b[0;34m=\u001b[0m\u001b[0mcopy\u001b[0m\u001b[0;34m)\u001b[0m\u001b[0;34m\u001b[0m\u001b[0;34m\u001b[0m\u001b[0m\n\u001b[0m\u001b[1;32m    804\u001b[0m         \u001b[0;32mexcept\u001b[0m \u001b[0mzmq\u001b[0m\u001b[0;34m.\u001b[0m\u001b[0mZMQError\u001b[0m \u001b[0;32mas\u001b[0m \u001b[0me\u001b[0m\u001b[0;34m:\u001b[0m\u001b[0;34m\u001b[0m\u001b[0;34m\u001b[0m\u001b[0m\n",
            "\u001b[0;32m/usr/local/lib/python3.7/dist-packages/zmq/sugar/socket.py\u001b[0m in \u001b[0;36mrecv_multipart\u001b[0;34m(self, flags, copy, track)\u001b[0m\n\u001b[1;32m    582\u001b[0m         \"\"\"\n\u001b[0;32m--> 583\u001b[0;31m         \u001b[0mparts\u001b[0m \u001b[0;34m=\u001b[0m \u001b[0;34m[\u001b[0m\u001b[0mself\u001b[0m\u001b[0;34m.\u001b[0m\u001b[0mrecv\u001b[0m\u001b[0;34m(\u001b[0m\u001b[0mflags\u001b[0m\u001b[0;34m,\u001b[0m \u001b[0mcopy\u001b[0m\u001b[0;34m=\u001b[0m\u001b[0mcopy\u001b[0m\u001b[0;34m,\u001b[0m \u001b[0mtrack\u001b[0m\u001b[0;34m=\u001b[0m\u001b[0mtrack\u001b[0m\u001b[0;34m)\u001b[0m\u001b[0;34m]\u001b[0m\u001b[0;34m\u001b[0m\u001b[0;34m\u001b[0m\u001b[0m\n\u001b[0m\u001b[1;32m    584\u001b[0m         \u001b[0;31m# have first part already, only loop while more to receive\u001b[0m\u001b[0;34m\u001b[0m\u001b[0;34m\u001b[0m\u001b[0;34m\u001b[0m\u001b[0m\n",
            "\u001b[0;32mzmq/backend/cython/socket.pyx\u001b[0m in \u001b[0;36mzmq.backend.cython.socket.Socket.recv\u001b[0;34m()\u001b[0m\n",
            "\u001b[0;32mzmq/backend/cython/socket.pyx\u001b[0m in \u001b[0;36mzmq.backend.cython.socket.Socket.recv\u001b[0;34m()\u001b[0m\n",
            "\u001b[0;32mzmq/backend/cython/socket.pyx\u001b[0m in \u001b[0;36mzmq.backend.cython.socket._recv_copy\u001b[0;34m()\u001b[0m\n",
            "\u001b[0;32m/usr/local/lib/python3.7/dist-packages/zmq/backend/cython/checkrc.pxd\u001b[0m in \u001b[0;36mzmq.backend.cython.checkrc._check_rc\u001b[0;34m()\u001b[0m\n",
            "\u001b[0;31mKeyboardInterrupt\u001b[0m: ",
            "\nDuring handling of the above exception, another exception occurred:\n",
            "\u001b[0;31mKeyboardInterrupt\u001b[0m                         Traceback (most recent call last)",
            "\u001b[0;32m<ipython-input-25-d10a1147a0c5>\u001b[0m in \u001b[0;36m<module>\u001b[0;34m()\u001b[0m\n\u001b[1;32m      4\u001b[0m \u001b[0;34m\u001b[0m\u001b[0m\n\u001b[1;32m      5\u001b[0m \u001b[0;31m# Prompting the user for an input\u001b[0m\u001b[0;34m\u001b[0m\u001b[0;34m\u001b[0m\u001b[0;34m\u001b[0m\u001b[0m\n\u001b[0;32m----> 6\u001b[0;31m \u001b[0mtemp_outside\u001b[0m \u001b[0;34m=\u001b[0m \u001b[0mfloat\u001b[0m\u001b[0;34m(\u001b[0m\u001b[0minput\u001b[0m\u001b[0;34m(\u001b[0m\u001b[0;34m'What is the temperature outside? '\u001b[0m\u001b[0;34m)\u001b[0m\u001b[0;34m)\u001b[0m\u001b[0;34m\u001b[0m\u001b[0;34m\u001b[0m\u001b[0m\n\u001b[0m\u001b[1;32m      7\u001b[0m \u001b[0;34m\u001b[0m\u001b[0m\n\u001b[1;32m      8\u001b[0m \u001b[0;32mif\u001b[0m \u001b[0mtemp_outside\u001b[0m \u001b[0;34m>\u001b[0m \u001b[0;36m12\u001b[0m\u001b[0;34m:\u001b[0m\u001b[0;34m\u001b[0m\u001b[0;34m\u001b[0m\u001b[0m\n",
            "\u001b[0;32m/usr/local/lib/python3.7/dist-packages/ipykernel/kernelbase.py\u001b[0m in \u001b[0;36mraw_input\u001b[0;34m(self, prompt)\u001b[0m\n\u001b[1;32m    702\u001b[0m             \u001b[0mself\u001b[0m\u001b[0;34m.\u001b[0m\u001b[0m_parent_ident\u001b[0m\u001b[0;34m,\u001b[0m\u001b[0;34m\u001b[0m\u001b[0;34m\u001b[0m\u001b[0m\n\u001b[1;32m    703\u001b[0m             \u001b[0mself\u001b[0m\u001b[0;34m.\u001b[0m\u001b[0m_parent_header\u001b[0m\u001b[0;34m,\u001b[0m\u001b[0;34m\u001b[0m\u001b[0;34m\u001b[0m\u001b[0m\n\u001b[0;32m--> 704\u001b[0;31m             \u001b[0mpassword\u001b[0m\u001b[0;34m=\u001b[0m\u001b[0;32mFalse\u001b[0m\u001b[0;34m,\u001b[0m\u001b[0;34m\u001b[0m\u001b[0;34m\u001b[0m\u001b[0m\n\u001b[0m\u001b[1;32m    705\u001b[0m         )\n\u001b[1;32m    706\u001b[0m \u001b[0;34m\u001b[0m\u001b[0m\n",
            "\u001b[0;32m/usr/local/lib/python3.7/dist-packages/ipykernel/kernelbase.py\u001b[0m in \u001b[0;36m_input_request\u001b[0;34m(self, prompt, ident, parent, password)\u001b[0m\n\u001b[1;32m    732\u001b[0m             \u001b[0;32mexcept\u001b[0m \u001b[0mKeyboardInterrupt\u001b[0m\u001b[0;34m:\u001b[0m\u001b[0;34m\u001b[0m\u001b[0;34m\u001b[0m\u001b[0m\n\u001b[1;32m    733\u001b[0m                 \u001b[0;31m# re-raise KeyboardInterrupt, to truncate traceback\u001b[0m\u001b[0;34m\u001b[0m\u001b[0;34m\u001b[0m\u001b[0;34m\u001b[0m\u001b[0m\n\u001b[0;32m--> 734\u001b[0;31m                 \u001b[0;32mraise\u001b[0m \u001b[0mKeyboardInterrupt\u001b[0m\u001b[0;34m\u001b[0m\u001b[0;34m\u001b[0m\u001b[0m\n\u001b[0m\u001b[1;32m    735\u001b[0m             \u001b[0;32melse\u001b[0m\u001b[0;34m:\u001b[0m\u001b[0;34m\u001b[0m\u001b[0;34m\u001b[0m\u001b[0m\n\u001b[1;32m    736\u001b[0m                 \u001b[0;32mbreak\u001b[0m\u001b[0;34m\u001b[0m\u001b[0;34m\u001b[0m\u001b[0m\n",
            "\u001b[0;31mKeyboardInterrupt\u001b[0m: "
          ]
        }
      ]
    },
    {
      "cell_type": "code",
      "metadata": {
        "id": "HaGipQqmvPXE"
      },
      "source": [
        "# Example 3\n",
        "# We should also note that indentation is significantly important as shown\n",
        "# \n",
        "\n",
        "# Declaring our varioable\n",
        "x = 7\n",
        "\n",
        "if x > 12:\n",
        "    print 'x is greater than 12'\n",
        "    if x >= 17:\n",
        "        print 'x is also at least 17'\n",
        "elif x > 7:\n",
        "    print 'x is greater than 7 but not greater than 12'\n",
        "else:\n",
        "    print 'no condition matched'\n",
        "    print 'so x is 7 or less'"
      ],
      "execution_count": null,
      "outputs": []
    },
    {
      "cell_type": "markdown",
      "metadata": {
        "id": "X5rie0KH2xAp"
      },
      "source": [
        "### <font color=\"green\"> 1.3 Challenges </font>"
      ]
    },
    {
      "cell_type": "code",
      "metadata": {
        "id": "z3TvASOt2zIt",
        "colab": {
          "base_uri": "https://localhost:8080/"
        },
        "outputId": "1e622122-e12f-46d8-f424-d3d6ebcaed1e"
      },
      "source": [
        "# Challenge 1\n",
        "# Let's write a program that reads a month and day from the user. \n",
        "# If the month and day matches one of the holidays listed previously \n",
        "# then the program should display the Kenyan holiday’s name. \n",
        "# Otherwise our program should indicate that the entered month and day \n",
        "# do not correspond to a holiday. (You should use the else keyword)\n",
        "#\n",
        "d = input(\"ENTER MONTH AND DAY IN A FORMAT e.g. 1ST JANUARY: \")\n",
        "\n",
        "if d == \"2ND MAY\" :\n",
        "  print(\"Madaraka Day\")\n",
        "\n",
        "elif d== \"12 DECEMBER\":\n",
        "  print(\"Jamhuri Day\")\n",
        "  \n",
        "elif d== \"20TH OCTOBER\":\n",
        "  print(\"Mashujaa Day\")\n",
        "\n",
        "else:\n",
        "  print(\"not a holiday\")"
      ],
      "execution_count": null,
      "outputs": [
        {
          "output_type": "stream",
          "text": [
            "ENTER MONTH AND DAY IN A FORMAT e.g. 1ST JANUARY: 1st january\n",
            "not a holiday\n"
          ],
          "name": "stdout"
        }
      ]
    },
    {
      "cell_type": "code",
      "metadata": {
        "id": "szGqVsAc2zft",
        "colab": {
          "base_uri": "https://localhost:8080/"
        },
        "outputId": "5c71a05e-43a2-4921-a476-8f56c734246a"
      },
      "source": [
        "# Challenge 2\n",
        "# Write a program that reads a wavelength from the user and reports its color. \n",
        "# Display an appropriate error message if the wavelength entered by the user \n",
        "# is outside of the visible spectrum. \n",
        "# (You can do external research on this challenge to determine the wavelength).\n",
        "# You should use the else keyword.\n",
        "#\n",
        "x = int(input(\"Recorded Wavelength. \"))\n",
        "\n",
        "if x >740<10000:\n",
        "  print(\"Color category: INFRARED\")\n",
        "\n",
        "elif x >380<740:\n",
        "  print(\"Color category: VISIBLE\")\n",
        "  \n",
        "elif x >100<380:\n",
        "  print(\"Color category: ULTRA VIOLET\")\n"
      ],
      "execution_count": null,
      "outputs": [
        {
          "output_type": "stream",
          "text": [
            "Recorded Wavelength. 399\n",
            "Color category: VISIBLE\n"
          ],
          "name": "stdout"
        }
      ]
    },
    {
      "cell_type": "code",
      "metadata": {
        "id": "1uHkXVZtuMPK",
        "colab": {
          "base_uri": "https://localhost:8080/"
        },
        "outputId": "0dbadc11-8232-4a24-c44a-f0c01a60c053"
      },
      "source": [
        "# Challenge 3\n",
        "# Let's create a program that reads the name of a month from the user as a string, \n",
        "# then displays the number of days in that month. \n",
        "# The length of a month varies from 28 to 31 days. \n",
        "# The program needs to also display “28 or 29 days” for February \n",
        "# so that leap years are taken into account.\n",
        "# The program should use the else keyword.\n",
        "# \n",
        "x = input(\"Enter Month i.e JULY  : \")\n",
        "y = int(input(\"The year.i.e. 1999:\"))\n",
        "y%4 ==0\n",
        "if x == \"FEBRUARY\" and y%4 ==0:\n",
        "  print(y, x, \"HAS 29 days IN A LEAP YEAR\") \n",
        "\n",
        "\n",
        "elif x == \"FEBRUARY\" and y%4 !=0:\n",
        "  print(y, x, \"HAS 28 days\")\n",
        "\n",
        "elif x == \"JANUARY\" or x == \"MARCH\" or x == \"MAY\" or x == \"JULY\" or x == \"AUGUST\" or x == \"OCTOBER\" or x == \"DECEMBER\":\n",
        "   print(y, x, \"HAS 31 days\") \n",
        "\n",
        "else:\n",
        "  print(y, x, \"HAS 30 days \")\n",
        "\n",
        "\n",
        "\n",
        "\n",
        "\n",
        "\n",
        "\n",
        "\n",
        "\n",
        "\n",
        "\n",
        "\n",
        "\n",
        "\n",
        "\n",
        "\n",
        "\n",
        "\n",
        "\n",
        "\n",
        "\n",
        "\n",
        "\n",
        "\n",
        "\n",
        "\n",
        "\n",
        "\n",
        "\n",
        "\n",
        "\n",
        "\n",
        "\n",
        "\n",
        "\n",
        "\n",
        "\n",
        "\n"
      ],
      "execution_count": null,
      "outputs": [
        {
          "output_type": "stream",
          "text": [
            "Enter Month i.e JULY  : JULY\n",
            "The year.i.e. 1999:2001\n",
            "2001 JULY HAS 31 days\n"
          ],
          "name": "stdout"
        }
      ]
    },
    {
      "cell_type": "code",
      "metadata": {
        "colab": {
          "base_uri": "https://localhost:8080/",
          "height": 132
        },
        "id": "dpvs-EZebeqO",
        "outputId": "8a427295-ff08-470a-f33a-542eeba86c58"
      },
      "source": [
        "elif x == \"APRIL\" or \"SEPTEMBER\" or \"JUNE\" or \"NOVEMBER\" and y%4 ==0 or y%4 ==0:\n",
        "  print(\"30 days\") "
      ],
      "execution_count": null,
      "outputs": [
        {
          "output_type": "error",
          "ename": "SyntaxError",
          "evalue": "ignored",
          "traceback": [
            "\u001b[0;36m  File \u001b[0;32m\"<ipython-input-211-209fefe6e9ee>\"\u001b[0;36m, line \u001b[0;32m1\u001b[0m\n\u001b[0;31m    elif x == \"APRIL\" or \"SEPTEMBER\" or \"JUNE\" or \"NOVEMBER\" and y%4 ==0 or y%4 ==0:\u001b[0m\n\u001b[0m       ^\u001b[0m\n\u001b[0;31mSyntaxError\u001b[0m\u001b[0;31m:\u001b[0m invalid syntax\n"
          ]
        }
      ]
    },
    {
      "cell_type": "code",
      "metadata": {
        "colab": {
          "base_uri": "https://localhost:8080/",
          "height": 35
        },
        "id": "wWMwfYXcbbwO",
        "outputId": "7398226e-ddc6-432e-8589-a89295dc8fb1"
      },
      "source": [
        "(x == \"APRIL\" or \"SEPTEMBER\" or \"JUNE\" or \"NOVEMBER\" and y%4 !=0 or y%4 ==0)"
      ],
      "execution_count": null,
      "outputs": [
        {
          "output_type": "execute_result",
          "data": {
            "application/vnd.google.colaboratory.intrinsic+json": {
              "type": "string"
            },
            "text/plain": [
              "'SEPTEMBER'"
            ]
          },
          "metadata": {
            "tags": []
          },
          "execution_count": 158
        }
      ]
    },
    {
      "cell_type": "markdown",
      "metadata": {
        "id": "qs4cjFqC1wm6"
      },
      "source": [
        "## 1.4 And"
      ]
    },
    {
      "cell_type": "code",
      "metadata": {
        "id": "QhXLc8z-2120"
      },
      "source": [
        "# Example 1\n",
        "# We can also use the and keyword to combine conditional statements.\n",
        "#\n",
        "\n",
        "# Declaring our variables\n",
        "x = 11\n",
        "y = 10\n",
        "z = 12\n",
        "\n",
        "if x > y and z > x:\n",
        "  print(\"Both conditions are True\")"
      ],
      "execution_count": null,
      "outputs": []
    },
    {
      "cell_type": "code",
      "metadata": {
        "id": "fRaI1Odr22lS"
      },
      "source": [
        "# Example 2\n",
        "# \n",
        "\n",
        "# Declaring our variables\n",
        "name = \"James\"    \n",
        "age  = 24 \n",
        "\n",
        "if name == \"James\" and age == 24:\n",
        "  print(\"Your name is James, and you are also 24 years old.\")"
      ],
      "execution_count": null,
      "outputs": []
    },
    {
      "cell_type": "code",
      "metadata": {
        "id": "VB5NlzM922Ux"
      },
      "source": [
        "# Example 3 \n",
        "#\n",
        "\n",
        "# Declaring our variables\n",
        "name = \"OUR CODE GOES HERE\"      # Let's store our name in the name variable\n",
        "age  =  OUR CODE GOES HERE        # Let's store our age in the age variable\n",
        "\n",
        "if name == \"James\" and age == 24:\n",
        "  print(\"Your name is James, and you are also 24 years old.\")\n",
        "else: \n",
        "  print(\"You are not James, who is 24 years old.\")"
      ],
      "execution_count": null,
      "outputs": []
    },
    {
      "cell_type": "markdown",
      "metadata": {
        "id": "UAFX7NgF23ab"
      },
      "source": [
        "### <font color=\"green\">1.4 Challenges</font>"
      ]
    },
    {
      "cell_type": "code",
      "metadata": {
        "id": "g26Rql1z25Ff",
        "colab": {
          "base_uri": "https://localhost:8080/"
        },
        "outputId": "20eeaac4-cf27-42b7-952d-209a8e693204"
      },
      "source": [
        "# Challenge 1:\n",
        "# Given the 3 sides of a triangle x, y and z, let's find out \n",
        "# whether the triangle is equilateral, isosceles or obtuse.\n",
        "# Note: An equilateral triagnle has all sides are equal, \n",
        "# isosceles means that two of the sides are equal but not the third one, \n",
        "# obtuse means all 3 are different. The user will be prompted \n",
        "# to provide the values of x, y and z\n",
        "# \n",
        "x = int(input(\"Insert lenghth of side a: \"))\n",
        "\n",
        "y = int(input(\"Insert lenghth of side b: \"))\n",
        "\n",
        "z = int(input(\"Insert lenghth of side c: \"))\n",
        "\n",
        "if x/y ==1 and z/y ==1 and x/z ==1 and z/x ==1 :\n",
        "  print( \"The triange is an equilateral\")\n",
        "\n",
        "elif (x - y or y - x >= 1) and (y - z or z - y >= 1) and (x - z or z - x >= 1) :\n",
        "  print(\"The triangle is an obtuse\")\n",
        "\n",
        "elif (x - y >=1 or y - x >= 1 and z - y == 0 or z - x == 0) or (z - x >= 1 or x - z >= 1 and y - x == 0 or y - z == 0) or (y - z >= 1 or z - y >= 1  and y - x == 0 or z - x == 0):\n",
        "  print(\"The triangle is an Isoscles\")\n",
        "\n",
        "\n",
        "\n"
      ],
      "execution_count": null,
      "outputs": [
        {
          "output_type": "stream",
          "text": [
            "Insert lenghth of side a: 22\n",
            "Insert lenghth of side b: 21\n",
            "Insert lenghth of side c: 12\n",
            "The triangle is an obtuse\n"
          ],
          "name": "stdout"
        }
      ]
    },
    {
      "cell_type": "markdown",
      "metadata": {
        "id": "GLyWRU4w11-M"
      },
      "source": [
        "## 1.5 Or"
      ]
    },
    {
      "cell_type": "code",
      "metadata": {
        "id": "jIyeUjAq3D2n"
      },
      "source": [
        "# Example 1\n",
        "# We can also use the if keyword to combine conditional statements. \n",
        "#\n",
        "\n",
        "# Declaring our variables\n",
        "x = 10\n",
        "y = 11\n",
        "z = 9\n",
        "\n",
        "if x > y or x > z:\n",
        "  print(\"At least one of the conditions is True\")"
      ],
      "execution_count": null,
      "outputs": []
    },
    {
      "cell_type": "code",
      "metadata": {
        "id": "bq7T-If83FVy",
        "colab": {
          "base_uri": "https://localhost:8080/"
        },
        "outputId": "51de1f58-8899-4a5d-eeb5-aa40f7af7840"
      },
      "source": [
        "# Example 2\n",
        "#\n",
        "\n",
        "# Declaring our variables\n",
        "x = int(input(\"Enter value of x = \"))\n",
        "y = int(input(\"Enter value of y = \"))\n",
        " \n",
        "if (x >= 15) or (y <= 25):\n",
        "  print(\"x >= 15 or y <= 25 so if statement is True\")\n",
        "\n",
        "else:\n",
        "  print(\"Value of x < 15 and y > 25 so if statement is False!\")"
      ],
      "execution_count": null,
      "outputs": [
        {
          "output_type": "stream",
          "text": [
            "Enter value of x = 20\n",
            "Enter value of y = 14\n",
            "x >= 15 or y <= 25 so if statement is True\n"
          ],
          "name": "stdout"
        }
      ]
    },
    {
      "cell_type": "code",
      "metadata": {
        "id": "FN29xkMq3FnA",
        "colab": {
          "base_uri": "https://localhost:8080/"
        },
        "outputId": "b9cc6012-7fe2-4807-ce69-6557c74ae702"
      },
      "source": [
        "# Example 3\n",
        "#\n",
        "\n",
        "# Declaring our variables\n",
        "w = 10\n",
        "x = 15\n",
        "y = 20\n",
        "z = 25\n",
        " \n",
        "if (w == 10 or x == 15) and (y == 16 or z == 25):\n",
        "  print(\"If statement is True\")\n",
        "else:\n",
        "  print(\"False\")"
      ],
      "execution_count": null,
      "outputs": [
        {
          "output_type": "stream",
          "text": [
            "If statement is True\n"
          ],
          "name": "stdout"
        }
      ]
    },
    {
      "cell_type": "markdown",
      "metadata": {
        "id": "TNIQRbN-3GNh"
      },
      "source": [
        "### <font color=\"green\">1.5 Challenges</font>"
      ]
    },
    {
      "cell_type": "code",
      "metadata": {
        "id": "Vhx4FY_P3J93",
        "colab": {
          "base_uri": "https://localhost:8080/"
        },
        "outputId": "0817d764-3951-42eb-cc0b-917378ca0f64"
      },
      "source": [
        "# Challenge 1\n",
        "# Using the Or operator, let's create a function \n",
        "# that determines the type of a triangle \n",
        "# based on the lengths of its sides. A user will be inputting\n",
        "# the sides of the triange\n",
        "#\n",
        "\n",
        "x = int(input(\"Insert lenghth of side a: \"))\n",
        "\n",
        "y = int(input(\"Insert lenghth of side b: \"))\n",
        "\n",
        "z = int(input(\"Insert lenghth of side c: \"))\n",
        "\n",
        "if x/y ==1 and z/y ==1 and x/z ==1 and z/x ==1 :\n",
        "  print( \"The triange is an equilateral\")\n",
        "\n",
        "elif (x - y or y - x >= 1) and (y - z or z - y >= 1) and (x - z or z - x >= 1) :\n",
        "  print(\"The triangle is an obtuse\")\n",
        "\n",
        "elif (x - y >=1 or y - x >= 1 and z - y == 0 or z - x == 0) or (z - x >= 1 or x - z >= 1 and y - x == 0 or y - z == 0) or (y - z >= 1 or z - y >= 1  and y - x == 0 or z - x == 0):\n",
        "  print(\"The triangle is an Isoscles\")\n",
        "\n",
        "\n",
        "\n",
        "\n",
        "\n",
        "  \n"
      ],
      "execution_count": null,
      "outputs": [
        {
          "output_type": "stream",
          "text": [
            "Insert lenghth of side a: 21\n",
            "Insert lenghth of side b: 21\n",
            "Insert lenghth of side c: 22\n",
            "The triangle is an Isoscles\n"
          ],
          "name": "stdout"
        }
      ]
    },
    {
      "cell_type": "code",
      "metadata": {
        "id": "VVh8NAu83KW6",
        "colab": {
          "base_uri": "https://localhost:8080/"
        },
        "outputId": "7cae610b-e82f-4f0e-c2dc-9f04ec2ff6cc"
      },
      "source": [
        "# Challenge 2\n",
        "# Using the Or operator, let's create a function \n",
        "# that checks whether a number given \n",
        "# by a user is greater than 30 or greater than 100. \n",
        "#\n",
        "n = int(input(\"Type Number: \" ))\n",
        "\n",
        "if n > 30 or n > 100:\n",
        "  print(f\"The Number you provided,{n}:qualifies\")\n",
        "\n",
        "else:\n",
        "  print(n, \"Does not qualify\")"
      ],
      "execution_count": null,
      "outputs": [
        {
          "output_type": "stream",
          "text": [
            "Type Number: 1000\n",
            "The Number you provided,1000:qualifies\n"
          ],
          "name": "stdout"
        }
      ]
    },
    {
      "cell_type": "code",
      "metadata": {
        "id": "5sMQVqPQtUaO"
      },
      "source": [
        "# Challenge 3\n",
        "# Let's write a program that prompts a letter from a user. \n",
        "# When any of the letters a, e, i, o or u are entered, \n",
        "# then your program should display a message indicating that the entered letter is a vowel. \n",
        "# If the user enters y then your program should display a message \n",
        "# indicating that sometimes y is a vowel, and sometimes y is a consonant. \n",
        "# Else the program should display a message indicating that the letter is a consonant.\n",
        "#\n",
        "\n",
        "a = input(\"Enter letter of the alphabet:\")\n",
        "\n",
        "if a =\"a\" or a =\"e\" or a = \"i\" or a == \"u\"):\n",
        "  print(a, \"is a vowel\") \n",
        "\n",
        "elif a == \"y\" :\n",
        "  print(a,\"is sometimes a vowel\")\n",
        " \n",
        "\n",
        "else:\n",
        "  print(a, \"is a consonant\")"
      ],
      "execution_count": null,
      "outputs": []
    },
    {
      "cell_type": "code",
      "metadata": {
        "id": "qPhoBAwX92ZC"
      },
      "source": [
        ""
      ],
      "execution_count": null,
      "outputs": []
    }
  ]
}